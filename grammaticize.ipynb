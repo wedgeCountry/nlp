{
 "cells": [
  {
   "cell_type": "code",
   "execution_count": 113,
   "metadata": {},
   "outputs": [],
   "source": [
    "# load data\n",
    "import json\n",
    "word_data = json.load(open(\"data/words.txt\", \"r\"))\n",
    "\n",
    "# get all grammatic functions with importance\n",
    "from collections import defaultdict\n",
    "grammar = defaultdict(int)\n",
    "for g_list in word_data.values():\n",
    "    for kind in g_list:\n",
    "        grammar[kind] += 1"
   ]
  },
  {
   "cell_type": "code",
   "execution_count": 114,
   "metadata": {},
   "outputs": [
    {
     "name": "stdout",
     "output_type": "stream",
     "text": [
      "['name', 'noun', 'verb', 'adjective', 'adverb', 'phrasal verb', 'preposition', 'pronoun']\n"
     ]
    }
   ],
   "source": [
    "# count how frequent a word function is\n",
    "dimension_counts = sorted(grammar.items(), key = lambda x: -x[1])\n",
    "# name for words with capital first letter\n",
    "dimensions = [\"name\"] + [dim[0] for dim in dimension_counts]\n",
    "# only use the first n grammar functions as feature vector\n",
    "n = 8\n",
    "dimensions = dimensions[:n]\n",
    "print(dimensions)"
   ]
  },
  {
   "cell_type": "code",
   "execution_count": 115,
   "metadata": {},
   "outputs": [],
   "source": [
    "# convert words into a feature vectors\n",
    "import numpy as np\n",
    "def word_as_feature(word_function, dimensions):\n",
    "    assert isinstance(word_function, dict), word_function\n",
    "    word, functions = list(word_function.items())[0]\n",
    "    feature = np.zeros(shape=(len(dimensions),1))\n",
    "    for function in functions:\n",
    "        if function in dimensions:\n",
    "            feature[dimensions.index(function)] = 1\n",
    "    # see if word is a name (capital first letter)\n",
    "    if word and word[0] == word[0].upper() and word != word.upper():\n",
    "        feature[0] = 1\n",
    "    return feature\n",
    "words = word_data.keys()\n",
    "word_features = {word: word_as_feature({word: function}, dimensions) for word, function in word_data.items()}"
   ]
  },
  {
   "cell_type": "code",
   "execution_count": 136,
   "metadata": {},
   "outputs": [
    {
     "name": "stdout",
     "output_type": "stream",
     "text": [
      "﻿Project Gutenberg’s Alice’s Adventures in Wonderland, by Lewis Carroll\n",
      "\n"
     ]
    }
   ],
   "source": [
    "# load training data\n",
    "with open(\"data/Alice_in_Wonderland.txt\", \"r\") as textfile:\n",
    "    text = textfile.read()\n",
    "print('\\n'.join(text.split(\"\\n\")[:2]))\n",
    "\n",
    "import re\n",
    "# split data to words\n",
    "text_strings = re.split(r\"\\s+\", text)\n",
    "# get rid of sentence seperation marks\n",
    "matches = [re.match(r\"\\w+\", word) for word in text_strings]\n",
    "text_words = [match.group().strip() for match in matches if match]\n",
    "    \n",
    "# convert training data to grammatical features\n",
    "training_data = [word_features.get(word, word_as_feature({word: []}, dimensions)) for word in text_words]"
   ]
  },
  {
   "cell_type": "code",
   "execution_count": 134,
   "metadata": {
    "scrolled": true
   },
   "outputs": [
    {
     "name": "stdout",
     "output_type": "stream",
     "text": [
      "0.629457309277\n",
      "0.352500355164\n"
     ]
    }
   ],
   "source": [
    "# how many words can we categorize?\n",
    "known_words = [1 if np.sum(feature)>0 else 0 for feature in training_data]\n",
    "print(np.mean(known_words))\n",
    "unique_words = [1 if np.sum(feature)==1 else 0 for feature in training_data]\n",
    "print(np.mean(unique_words))"
   ]
  },
  {
   "cell_type": "code",
   "execution_count": null,
   "metadata": {},
   "outputs": [],
   "source": []
  }
 ],
 "metadata": {
  "kernelspec": {
   "display_name": "Python 3",
   "language": "python",
   "name": "python3"
  },
  "language_info": {
   "codemirror_mode": {
    "name": "ipython",
    "version": 3
   },
   "file_extension": ".py",
   "mimetype": "text/x-python",
   "name": "python",
   "nbconvert_exporter": "python",
   "pygments_lexer": "ipython3",
   "version": "3.5.3"
  }
 },
 "nbformat": 4,
 "nbformat_minor": 2
}
